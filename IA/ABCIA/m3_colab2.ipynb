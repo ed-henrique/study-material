{
  "cells": [
    {
      "cell_type": "markdown",
      "metadata": {
        "id": "9_vjKr9dDZbM"
      },
      "source": [
        "# **XGBoost: Predição de Custos de Plano de Saúde**"
      ]
    },
    {
      "cell_type": "code",
      "execution_count": null,
      "metadata": {
        "id": "Pxh38SHvmrLM"
      },
      "outputs": [],
      "source": [
        "#Importando as bibliotecas\n",
        "import pandas as pd  \n",
        "import numpy as np  \n",
        "import matplotlib.pyplot as plt  \n",
        "import seaborn as sns\n",
        "from sklearn.model_selection import train_test_split \n",
        "from sklearn.linear_model import LinearRegression\n",
        "from sklearn.metrics import mean_squared_error\n",
        "from sklearn.metrics import mean_absolute_error\n",
        "from sklearn.metrics import r2_score\n",
        "import warnings\n",
        "warnings.filterwarnings('ignore')\n",
        "%matplotlib inline"
      ]
    },
    {
      "cell_type": "markdown",
      "metadata": {
        "id": "a5GupRyfFbkm"
      },
      "source": [
        "## **1. Entrada de Dados**"
      ]
    },
    {
      "cell_type": "code",
      "execution_count": null,
      "metadata": {
        "colab": {
          "base_uri": "https://localhost:8080/",
          "height": 206
        },
        "id": "pu3u0GAhN7gx",
        "outputId": "e2086f5f-9cf3-41a6-abae-777aea8e3834"
      },
      "outputs": [],
      "source": [
        "#Importando os dados\n",
        "### -- COMPLETE O CÓDIGO -- ###\n",
        "\n",
        "#Visualizando tabela dos dados\n",
        "df.head()"
      ]
    },
    {
      "cell_type": "code",
      "execution_count": null,
      "metadata": {
        "colab": {
          "base_uri": "https://localhost:8080/",
          "height": 300
        },
        "id": "3JtYFtFZPvdM",
        "outputId": "028e7096-81f8-456e-92fe-cc83019beac4"
      },
      "outputs": [],
      "source": [
        "#Breve descrição dos dados\n",
        "df.describe()"
      ]
    },
    {
      "cell_type": "code",
      "execution_count": null,
      "metadata": {
        "id": "ps2xftahFbkn"
      },
      "outputs": [],
      "source": [
        "# Separa variaveis\n",
        "### -- COMPLETE O CÓDIGO -- ###"
      ]
    },
    {
      "cell_type": "code",
      "execution_count": null,
      "metadata": {
        "colab": {
          "base_uri": "https://localhost:8080/",
          "height": 423
        },
        "id": "u3BMd9yNFbkn",
        "outputId": "0e8ca5d2-3117-4549-b448-4e34baef7659"
      },
      "outputs": [],
      "source": [
        "# Variaveis de entrada\n",
        "X"
      ]
    },
    {
      "cell_type": "code",
      "execution_count": null,
      "metadata": {
        "colab": {
          "base_uri": "https://localhost:8080/"
        },
        "id": "H48wpwB-Fbkn",
        "outputId": "c4dbebe5-67ac-43f0-cc64-25b44f24b0b3"
      },
      "outputs": [],
      "source": [
        "# Alvo (Target)\n",
        "y"
      ]
    },
    {
      "cell_type": "markdown",
      "metadata": {
        "id": "js9Fcxa9Fbkn"
      },
      "source": [
        "## **2. Tratando Variáveis Categóricas**"
      ]
    },
    {
      "cell_type": "code",
      "execution_count": null,
      "metadata": {
        "id": "MBNs1PO4Fbko"
      },
      "outputs": [],
      "source": [
        "# Trata variaveis categóricas - Parte 1\n",
        "# Cria uma classificador para o IMC\n",
        "### -- COMPLETE O CÓDIGO -- ###"
      ]
    },
    {
      "cell_type": "code",
      "execution_count": null,
      "metadata": {
        "colab": {
          "base_uri": "https://localhost:8080/",
          "height": 423
        },
        "id": "Z3dzzHfWFbko",
        "outputId": "5307bc6d-8498-47ee-f7f2-c0cd76a16cec"
      },
      "outputs": [],
      "source": [
        "### -- COMPLETE O CÓDIGO -- ###\n",
        "X"
      ]
    },
    {
      "cell_type": "code",
      "execution_count": null,
      "metadata": {
        "colab": {
          "base_uri": "https://localhost:8080/",
          "height": 423
        },
        "id": "-mobN5_2UCvO",
        "outputId": "7331869d-93f4-4ad0-f81d-81ee371cdebf"
      },
      "outputs": [],
      "source": [
        "# Trata variaveis categóricas - Parte 2\n",
        "# Trata variaveis categóricas (Sexo e Fumante) - binárias\n",
        "\n",
        "### -- COMPLETE O CÓDIGO -- ###\n",
        "X"
      ]
    },
    {
      "cell_type": "code",
      "execution_count": null,
      "metadata": {
        "id": "M5T1-7McFbko"
      },
      "outputs": [],
      "source": [
        "# Agora transforma as variaveis categoricas em numéricas\n",
        "columns_to_encode = ['region', 'bmi_class']"
      ]
    },
    {
      "cell_type": "code",
      "execution_count": null,
      "metadata": {
        "id": "zqPzyenNFbko"
      },
      "outputs": [],
      "source": [
        "# Utiliza o OneHotEncoder para tratar as variáveis categóricas\n",
        "from sklearn.preprocessing import OneHotEncoder\n",
        "\n",
        "### -- COMPLETE O CÓDIGO -- ###"
      ]
    },
    {
      "cell_type": "code",
      "execution_count": null,
      "metadata": {
        "colab": {
          "base_uri": "https://localhost:8080/",
          "height": 522
        },
        "id": "CVCPMnOuX8eR",
        "outputId": "b838dd44-e77e-4a73-887a-f02cf52999ac"
      },
      "outputs": [],
      "source": [
        "X"
      ]
    },
    {
      "cell_type": "code",
      "execution_count": null,
      "metadata": {
        "colab": {
          "base_uri": "https://localhost:8080/",
          "height": 522
        },
        "id": "WLWB4Vy8xWFF",
        "outputId": "ee43c2ec-fa33-42e4-9711-b82551b6a2db"
      },
      "outputs": [],
      "source": [
        "X = X.drop(columns='region')\n",
        "X"
      ]
    },
    {
      "cell_type": "code",
      "execution_count": null,
      "metadata": {
        "colab": {
          "base_uri": "https://localhost:8080/",
          "height": 206
        },
        "id": "ARCVpCRkFbkp",
        "outputId": "1a9c7d2a-86f4-420b-a772-59018bb08676"
      },
      "outputs": [],
      "source": [
        "# Coloca as variáveis continuas numa escala padronizada\n",
        "### -- COMPLETE O CÓDIGO -- ###"
      ]
    },
    {
      "cell_type": "markdown",
      "metadata": {
        "id": "FbqbopZaJOUi"
      },
      "source": [
        "## **Por que normalizar antes do ajuste do modelo?**\n",
        "A ideia principal por trás da **normalização/padronização** é sempre a mesma. As variáveis ​​que são medidas em escalas diferentes não contribuem igualmente para o ajuste do modelo e função aprendida do modelo e podem acabar criando um **viés** . Assim, para lidar com esse problema potencial, a normalização de recursos, como **MinMax Scaling**, geralmente é usada antes do ajuste do modelo.\n",
        "\n",
        "Isso pode ser muito útil para alguns modelos de ML, como **Perceptrons de várias camadas ( MLP )**, em que a retropropagação pode ser mais estável e até mais rápida quando os recursos de entrada são dimensionados para mínimo-máximo (ou em escala geral) em comparação com o uso do original dados não dimensionados.\n",
        "\n",
        "Observação: os modelos baseados em árvore geralmente não dependem do dimensionamento, mas os modelos que não são de árvore, como SVM, LDA, etc., costumam ser extremamente dependentes dele."
      ]
    },
    {
      "cell_type": "code",
      "execution_count": null,
      "metadata": {
        "id": "ceT9txIxFbkp"
      },
      "outputs": [],
      "source": [
        "# Melhoria. Coloca os dados numericos em uma scala entre 0 e 1.\n",
        "from sklearn.preprocessing import MinMaxScaler\n",
        "\n",
        "### -- COMPLETE O CÓDIGO -- ###"
      ]
    },
    {
      "cell_type": "code",
      "execution_count": null,
      "metadata": {
        "colab": {
          "base_uri": "https://localhost:8080/",
          "height": 287
        },
        "id": "K9lIEMRAFbkp",
        "outputId": "8acccae6-8846-4efd-adff-9d49869f48c5"
      },
      "outputs": [],
      "source": [
        "### -- COMPLETE O CÓDIGO -- ###"
      ]
    },
    {
      "cell_type": "code",
      "execution_count": null,
      "metadata": {
        "colab": {
          "base_uri": "https://localhost:8080/",
          "height": 193
        },
        "id": "5kY4_eLtFbkp",
        "outputId": "875d853e-e5d4-4856-8db5-64e08c3d1bba"
      },
      "outputs": [],
      "source": [
        "# Verifica se nao tem nenhuma discrepancia\n",
        "### -- COMPLETE O CÓDIGO -- ###"
      ]
    },
    {
      "cell_type": "markdown",
      "metadata": {
        "id": "lGXFEzKcJ8kg"
      },
      "source": [
        "# **3. Modelo XGBoost**"
      ]
    },
    {
      "cell_type": "markdown",
      "metadata": {
        "id": "9hfOYwXwNmSP"
      },
      "source": [
        "Extreme Gradient Boosting (XGBoost) é uma biblioteca de código aberto que fornece uma implementação eficiente e eficaz do algoritmo de aumento de gradiente.\n",
        "\n",
        "Logo após seu desenvolvimento e lançamento inicial, o XGBoost tornou-se o método preferencial e, muitas vezes, o componente-chave na obtenção de soluções para uma série de problemas em competições de aprendizado de máquina.\n",
        "\n",
        "O aumento de gradiente refere-se a uma classe de algoritmos de aprendizado de máquina que podem ser usados para **problemas de modelagem preditiva de classificação ou regressão**.\n",
        "\n",
        "## **Ensembles**\n",
        "\n",
        "Ensembles são **combinações de diferentes modelos chamados de “modelos fracos” ou “modelos base”** para a criação de um **modelos mais forte**. E existem 3 principais tipos de ensemble.\n",
        "\n",
        "Quando se cria um modelo de machine learning devemos buscar por um **equilíbrio entre variância e viés**. Alguns modelos por suas peculiaridades matemáticas possuem maior variância ou maior potencial de overfitting e obter um viés. O ensemble é uma tentativa de achar esse equilíbrio.\n",
        "\n",
        "**Existem 3 principais formas de se agruparem modelos:**\n",
        "*   Bagging\n",
        "*   Boosting\n",
        "*   Stacking\n",
        "\n",
        "O ensemble XGBoost é construído a partir de modelos de árvore de decisão. As árvores são adicionadas uma de cada vez ao conjunto e ajustadas para corrigir os erros de previsão feitos pelos modelos anteriores. Esse é um tipo de modelo de aprendizado de máquina ensemble conhecido como **boosting**.\n",
        "\n",
        "Os modelos são ajustados usando qualquer função de perda diferenciável arbitrária e algoritmo de **otimização de gradiente descendente**. Isso dá à técnica seu nome, “aumento de gradiente” (XG), pois o gradiente de perda é minimizado conforme o modelo é ajustado, muito parecido com uma rede neural."
      ]
    },
    {
      "cell_type": "code",
      "execution_count": null,
      "metadata": {
        "id": "1iGhiTEBIYdF"
      },
      "outputs": [],
      "source": [
        "#Separando os dados de Treino e Teste\n",
        "# Faz a divisão dos datasets em treino e teste\n",
        "\n",
        "### -- COMPLETE O CÓDIGO -- ###"
      ]
    },
    {
      "cell_type": "code",
      "execution_count": null,
      "metadata": {
        "id": "r-w4TcwvQB9e"
      },
      "outputs": [],
      "source": [
        "from xgboost import XGBRegressor"
      ]
    },
    {
      "cell_type": "code",
      "execution_count": null,
      "metadata": {
        "colab": {
          "base_uri": "https://localhost:8080/"
        },
        "id": "vdgzCmnMQIze",
        "outputId": "ef59e673-edda-4391-abb9-c9594c0ed46c"
      },
      "outputs": [],
      "source": [
        "### -- COMPLETE O CÓDIGO -- ###"
      ]
    },
    {
      "cell_type": "code",
      "execution_count": null,
      "metadata": {
        "colab": {
          "base_uri": "https://localhost:8080/",
          "height": 457
        },
        "id": "UgGAfC4ea739",
        "outputId": "f5327198-5008-4aef-f1e0-c5b4e698ac6f"
      },
      "outputs": [],
      "source": [
        "### -- COMPLETE O CÓDIGO -- ###\n"
      ]
    },
    {
      "cell_type": "code",
      "execution_count": null,
      "metadata": {
        "colab": {
          "base_uri": "https://localhost:8080/",
          "height": 298
        },
        "id": "D6OGb9-wFbkq",
        "outputId": "5fe5d43b-540a-4f82-8a6b-b52162ae19f5"
      },
      "outputs": [],
      "source": [
        "sns.barplot(data=feature_importance_df.sort_values('Importance', ascending=False), y='Feature', x='Importance')"
      ]
    },
    {
      "cell_type": "code",
      "execution_count": null,
      "metadata": {
        "colab": {
          "base_uri": "https://localhost:8080/"
        },
        "id": "q9DudbeSFbkr",
        "outputId": "dee11fc3-db9b-4c71-bc91-c972aa7e3a52"
      },
      "outputs": [],
      "source": [
        "# Verificando o resultado do modelo com o teste (predição)\n",
        "### -- COMPLETE O CÓDIGO -- ###\n",
        "y_pred"
      ]
    },
    {
      "cell_type": "code",
      "execution_count": null,
      "metadata": {
        "colab": {
          "base_uri": "https://localhost:8080/"
        },
        "id": "xDL9cEhJFbkr",
        "outputId": "b640a38e-61b0-4fd0-cd12-a1526bb0892d"
      },
      "outputs": [],
      "source": [
        "# Avaliando o modelo\n",
        "r2 = r2_score(y_test, y_pred)\n",
        "print('Coeficiente de Determinação (R²):', r2)"
      ]
    },
    {
      "cell_type": "markdown",
      "metadata": {
        "id": "FYT7qusLQtij"
      },
      "source": [
        "# **4.Perfomance do Modelo**"
      ]
    },
    {
      "cell_type": "code",
      "execution_count": null,
      "metadata": {
        "colab": {
          "base_uri": "https://localhost:8080/"
        },
        "id": "7el8wKG6bwwy",
        "outputId": "e2b103fa-01ee-4b09-95e7-39ccbca4c936"
      },
      "outputs": [],
      "source": [
        "rmse = mean_squared_error(y_test, model_xgboost.predict(X_test), squared=False)\n",
        "nrmse = rmse/(max(y)-min(y))\n",
        "\n",
        "print('The RMSE is: {}'.format(rmse))\n",
        "print('The NRMSE is: {}'.format(nrmse))"
      ]
    }
  ],
  "metadata": {
    "colab": {
      "provenance": []
    },
    "kernelspec": {
      "display_name": "Python 3",
      "language": "python",
      "name": "python3"
    },
    "language_info": {
      "codemirror_mode": {
        "name": "ipython",
        "version": 3
      },
      "file_extension": ".py",
      "mimetype": "text/x-python",
      "name": "python",
      "nbconvert_exporter": "python",
      "pygments_lexer": "ipython3",
      "version": "3.8.10"
    },
    "vscode": {
      "interpreter": {
        "hash": "916dbcbb3f70747c44a77c7bcd40155683ae19c65e1c03b4aa3499c5328201f1"
      }
    }
  },
  "nbformat": 4,
  "nbformat_minor": 0
}
