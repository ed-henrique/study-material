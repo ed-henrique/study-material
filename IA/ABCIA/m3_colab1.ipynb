{
  "cells": [
    {
      "cell_type": "markdown",
      "metadata": {
        "id": "9_vjKr9dDZbM"
      },
      "source": [
        "# **Regressão Linear: Predição de Custos de Plano de Saúde**"
      ]
    },
    {
      "cell_type": "markdown",
      "metadata": {
        "id": "tkWpO_zjD0cI"
      },
      "source": [
        "**O Problema**"
      ]
    },
    {
      "cell_type": "markdown",
      "metadata": {
        "id": "1abq6jlAD4ec"
      },
      "source": [
        "Despesas médicas são uma das principais despesas no dia a dia da vida humana. Muitos fatores contribuem para a evolução destes gastos, estilos de vidas e parâmetros físicos podem trazer doenças e enfermidades que causam esses aumentos em planos de saúde. Além disso, alguns estudos indicam que, os principais fatores que contribuem para maiores gastos em cuidados médicos pessoais incluem tabagismo, envelhecimento e IMC.\n",
        "\n",
        "Faremos então, uma análise de dados de planos de saúde dos EUA. Os dados são secundários, e podem ser encontrados aqui. Contêm 1338 linhas e 6 colunas que trazem as seguintes informações: **idade, sexo, crianças, fumante, região e total gasto com o seguro**. O objetivo desta análise é determinar quais os fatores e efeitos elevam o custo de seguro e criar um modelo de **Regressão Linear Múltipla** que possa prever o custo do seguro de saúde com base nos fatores que o influenciam.\n",
        "\n",
        "Então, vamos preparar um sumário do que veremos nesta análise.\n",
        "\n",
        "1.   O que é Regressão?\n",
        "3.   Análise Exploratória dos Dados\n",
        "4.   Modelo de Regressão Linear\n",
        "5.   Perfomance do Modelo\n",
        "\n",
        "\n"
      ]
    },
    {
      "cell_type": "markdown",
      "metadata": {
        "id": "_8C9V8k4pTXU"
      },
      "source": [
        "## **1. Regressão Linear**"
      ]
    },
    {
      "cell_type": "markdown",
      "metadata": {
        "id": "Pcdm8ytVpgs_"
      },
      "source": [
        "Um dos primeiros modelos estatísticos+ e de Machine Learning que temos contato ao entrar nesse universo de análise de dados é o de **Regressão Linear**.\n",
        "\n",
        "Regressão Linear é uma equação para se estimar um alvo (variável y ou dependente), dados os valores de outras variáveis (variáveis x ou independentes). Um algoritmo simples, mas que usado com os parâmetros corretos é capaz de oferecer uma grande capacidade preditiva somente com a relação das suas variáveis.\n",
        "\n",
        "Um exemplo, suponhamos que uma escola avalie a nota de seus alunos por horas dedicadas ao estudo, com esses dados em mãos, traçam uma relação entre as variáveis, onde a nota seria a variável alvo (y) e as horas de estudo a variável independentes (x).\n",
        "\n",
        "\n",
        "![texto alternativo](https://eleijonmarck.dev/8a25f3ea757821016127cb80936c939f/linear_regression_error.gif)\n",
        "\n",
        "Basicamente, o que o algoritmo de regressão linear faz é ajustar várias linhas nos pontos de dados e retornar a linha que resulta no menor erro. Tudo isso em uma equação matemática.\n",
        "\n",
        "**O modelo de regressão linear**\n",
        "\n",
        "Para representar a relação entre uma variável dependente (y) e uma variável independente (x), usamos o modelo:\n",
        "\n",
        "$$y = a + bx$$\n",
        "\n",
        "Onde: \n",
        "\n",
        "**Y** = Alvo \n",
        "\n",
        "**a** = Intercepto\n",
        "\n",
        "**b** = Inclinação da reta\n",
        "\n",
        "**x** = variável independente\n",
        "\n",
        "\n",
        "Em casos em que existam mais de duas variáveis, este conceito pode ser estendido, temos assim a **regressão linear múltipla**. Por exemplo, considere um cenário em que você deve prever o preço da casa com base em sua área, número de quartos, renda média das pessoas na área, idade da casa e assim por diante. Nesse caso, a variável dependente (variável de destino) depende de várias variáveis independentes.\n",
        "\n",
        "\n",
        "![texto alternativo](https://miro.medium.com/max/616/1*LsmGjBMwUe-CieGxFYvXHA.png)"
      ]
    },
    {
      "cell_type": "markdown",
      "metadata": {
        "id": "-86tHDtloc8-"
      },
      "source": [
        "# **2. Análise Exploratória dos dados**"
      ]
    },
    {
      "cell_type": "markdown",
      "metadata": {
        "id": "5GWURwYHtaXk"
      },
      "source": [
        "Com a regressão linear explicada, e sem mais delongas, vamos colocar a mão no código!\n",
        "\n",
        "Primeiramente, vamos importar as bibliotecas necessárias e logo após, vamos fazer a análise exploratória dos dados, para entendermos melhor com o que estamos trabalhando."
      ]
    },
    {
      "cell_type": "code",
      "execution_count": null,
      "metadata": {
        "id": "Pxh38SHvmrLM"
      },
      "outputs": [],
      "source": [
        "#Importando as bibliotecas\n",
        "import pandas as pd  \n",
        "import numpy as np  \n",
        "import matplotlib.pyplot as plt  \n",
        "import seaborn as sns\n",
        "from sklearn.model_selection import train_test_split \n",
        "from sklearn.linear_model import LinearRegression\n",
        "from sklearn.metrics import mean_squared_error\n",
        "from sklearn.metrics import mean_absolute_error\n",
        "from sklearn.metrics import r2_score\n",
        "import warnings\n",
        "warnings.filterwarnings('ignore')\n",
        "%matplotlib inline"
      ]
    },
    {
      "cell_type": "code",
      "execution_count": null,
      "metadata": {
        "colab": {
          "base_uri": "https://localhost:8080/",
          "height": 206
        },
        "id": "Rk8VOIwdnH1c",
        "outputId": "f7a030ac-014d-4e8b-e7ad-cbc05390600e"
      },
      "outputs": [],
      "source": [
        "#Importando os dados\n",
        "### -- COMPLETE O CÓDIGO -- ###\n",
        "\n",
        "#Visualizando tabela dos dados\n",
        "### -- COMPLETE O CÓDIGO -- ###"
      ]
    },
    {
      "cell_type": "code",
      "execution_count": null,
      "metadata": {
        "colab": {
          "base_uri": "https://localhost:8080/",
          "height": 300
        },
        "id": "3JtYFtFZPvdM",
        "outputId": "da5c057a-1600-40c3-9049-fa5a237071d0"
      },
      "outputs": [],
      "source": [
        "#Breve descrição dos dados\n",
        "### -- COMPLETE O CÓDIGO -- ###"
      ]
    },
    {
      "cell_type": "markdown",
      "metadata": {
        "id": "VMI2_iX1vfAO"
      },
      "source": [
        "Repararam que na tabela de descrição não tem todas as variáveis? \n",
        "\n",
        "Então, se olharmos um pouco mais acima para a tabela com os dados, vemos algumas colunas que estão com dados não númericos. E como vamos passar essas informações para nosso algoritmo?\n",
        "\n",
        "Para isso a biblioteca `sklearn` possui uma *feature* de pré processamento chamada `LabelEncoder` que classifica essas informações em númerica. Vamos aplica-lá as colunas de Sexo, Fumante e Região."
      ]
    },
    {
      "cell_type": "code",
      "execution_count": null,
      "metadata": {
        "id": "_vYxiG3SsxR9"
      },
      "outputs": [],
      "source": [
        "from sklearn.preprocessing import LabelEncoder\n",
        "le = LabelEncoder()\n",
        "#sex\n",
        "### -- COMPLETE O CÓDIGO -- ###\n",
        "\n",
        "# smoker\n",
        "### -- COMPLETE O CÓDIGO -- ###\n",
        "\n",
        "#region\n",
        "### -- COMPLETE O CÓDIGO -- ###"
      ]
    },
    {
      "cell_type": "code",
      "execution_count": null,
      "metadata": {
        "colab": {
          "base_uri": "https://localhost:8080/",
          "height": 206
        },
        "id": "r5g7qp_n3R5E",
        "outputId": "289827eb-3e86-4225-dbdd-e3192ed983af"
      },
      "outputs": [],
      "source": [
        "df.head()"
      ]
    },
    {
      "cell_type": "code",
      "execution_count": null,
      "metadata": {
        "colab": {
          "base_uri": "https://localhost:8080/"
        },
        "id": "WLWB4Vy8xWFF",
        "outputId": "0c8be1d5-9c0b-4241-f1ef-0913a395cc7e"
      },
      "outputs": [],
      "source": [
        "#Vamos conferir como ficou o tipo de cada coluna\n",
        "df.info()"
      ]
    },
    {
      "cell_type": "markdown",
      "metadata": {
        "id": "XWvH4Bef1BI4"
      },
      "source": [
        "Pronto, dados normalizados, vamos começar a análise exploratória.\n",
        "\n",
        "A primeira coisa que vamos verificar é a **correlação** entre as váriaveis.\n",
        "\n",
        "O que a correlação procura entender é como uma variável se comporta em um cenário onde outra está variando, visando identificar se existe alguma relação entre a variabilidade de ambas. Embora não implique em causalidade, o coeficiente de correlação exprime em números essa relação, ou seja, quantifica a relação entre as variáveis."
      ]
    },
    {
      "cell_type": "code",
      "execution_count": null,
      "metadata": {
        "colab": {
          "base_uri": "https://localhost:8080/",
          "height": 269
        },
        "id": "aqukddlFUfp1",
        "outputId": "9b7f793e-0ea6-45e0-85c2-41eac1f2ce6d"
      },
      "outputs": [],
      "source": [
        "#Tabela de correlação\n",
        "### -- COMPLETE O CÓDIGO -- ###"
      ]
    },
    {
      "cell_type": "code",
      "execution_count": null,
      "metadata": {
        "colab": {
          "base_uri": "https://localhost:8080/",
          "height": 487
        },
        "id": "o8CvmtxPUj7X",
        "outputId": "5acc262b-d0f8-4757-897b-e9ec859e8bea"
      },
      "outputs": [],
      "source": [
        "#Vamos ver a correlação graficamente\n",
        "### -- COMPLETE O CÓDIGO -- ###"
      ]
    },
    {
      "cell_type": "markdown",
      "metadata": {
        "id": "ieCoKpCWQJbb"
      },
      "source": [
        "Fumantes tem uma forte correlação com os gastos em saúde.Surpreende a baixa correlação com o índice de massa corporal."
      ]
    },
    {
      "cell_type": "markdown",
      "metadata": {
        "id": "buGIVhGoSNX-"
      },
      "source": [
        "Vamos olhar como está a distribuição dos gastos e depois vamos analisar mais a fundo a variável fumante."
      ]
    },
    {
      "cell_type": "code",
      "execution_count": null,
      "metadata": {
        "colab": {
          "base_uri": "https://localhost:8080/",
          "height": 350
        },
        "id": "__hJRHJJ8a16",
        "outputId": "25e7343e-738c-4478-86fd-55b58ea53eb3"
      },
      "outputs": [],
      "source": [
        "#Distribuição dos custos\n",
        "plt.figure(figsize=(12,5))\n",
        "plt.title(\"Distribuição dos custos\")\n",
        "ax = sns.distplot(df[\"expenses\"], color = 'b')"
      ]
    },
    {
      "cell_type": "code",
      "execution_count": null,
      "metadata": {
        "colab": {
          "base_uri": "https://localhost:8080/",
          "height": 404
        },
        "id": "jcvA3tTWG73J",
        "outputId": "f7ad9d83-4b28-475f-d907-7b47f170c376"
      },
      "outputs": [],
      "source": [
        "#Distruição de Gastos por Fumantes e não fumantes\n",
        "fig= plt.figure(figsize=(17,6))\n",
        "\n",
        "ax=fig.add_subplot(121)\n",
        "sns.distplot(df[(df.smoker == 1)][\"expenses\"],color='r',ax=ax)\n",
        "ax.set_title('Distribuição de gastos por fumantes');\n",
        "\n",
        "ax=fig.add_subplot(122)\n",
        "sns.distplot(df[(df.smoker == 0)]['expenses'],color='c',ax=ax)\n",
        "ax.set_title('Distribuição de gastos por não fumantes');"
      ]
    },
    {
      "cell_type": "code",
      "execution_count": null,
      "metadata": {
        "colab": {
          "base_uri": "https://localhost:8080/",
          "height": 355
        },
        "id": "mwicYox7Iuk2",
        "outputId": "b54dec52-5a35-49f9-b0d2-101ad9501603"
      },
      "outputs": [],
      "source": [
        "#Total de Fumantes e não fumantes por sexo\n",
        "g = sns.catplot(x=\"smoker\", kind=\"count\",hue = 'sex', palette=\"Blues_r\", data=df,legend_out= True)\n",
        "\n",
        "# Eixos\n",
        "(g.set_axis_labels(\"\", \"Total\")\n",
        "  .set_xticklabels([\"Não Fumante\", \"Fumante\"])\n",
        "  )\n",
        "\n",
        "# Legenda\n",
        "g._legend.set_title('Sexo')\n",
        "new_labels = ['Mulheres', 'Homens']\n",
        "for t, l in zip(g._legend.texts, new_labels): t.set_text(l)"
      ]
    },
    {
      "cell_type": "code",
      "execution_count": null,
      "metadata": {
        "colab": {
          "base_uri": "https://localhost:8080/",
          "height": 355
        },
        "id": "1DR-yTKWhBxD",
        "outputId": "1b622a2e-a94f-4b26-fc83-29d6f03b99fb"
      },
      "outputs": [],
      "source": [
        "#Distribuição de gastos por fumante e não fumante por sexo\n",
        "g= sns.catplot(x=\"sex\", y=\"expenses\", hue=\"smoker\",\n",
        "            kind=\"violin\", data=df, palette = 'Blues', legend_out= False, ax=ax);\n",
        "\n",
        "# Eixos\n",
        "(g.set_axis_labels(\"\", \"Gasto Total\")\n",
        "  .set_xticklabels([\"Homens\", \"Mulheres\"])\n",
        "  )\n",
        "\n",
        "# Legenda\n",
        "leg = g.axes.flat[0].get_legend()\n",
        "new_title = ''\n",
        "leg.set_title(new_title)\n",
        "new_labels = [\"Não Fumante\", \"Fumante\"]\n",
        "for t, l in zip(g._legend.texts, new_labels): t.set_text(l)\n",
        "g._legend.set_bbox_to_anchor((.39,1))"
      ]
    },
    {
      "cell_type": "markdown",
      "metadata": {
        "id": "rij0_TRWxsOg"
      },
      "source": [
        "De fato, os gráficos nos mostram que fumantes possuem uma forte tendencia a terem mais gastos com saúde.\n",
        "\n",
        "Vamos prosseguir visualizando a idade dos contratantes."
      ]
    },
    {
      "cell_type": "markdown",
      "metadata": {
        "id": "jx41BKOQz9uP"
      },
      "source": [
        "A maioria dos pacientes do nosso dataset possuem menos de 20 anos, sendo o menor 18 anos e o maior com 64 anos. \n",
        "\n",
        "Vamos ver como os custos estão distribuidos entre a idade e os fumantes."
      ]
    },
    {
      "cell_type": "code",
      "execution_count": null,
      "metadata": {
        "colab": {
          "base_uri": "https://localhost:8080/",
          "height": 350
        },
        "id": "ncs4kH4-9kxk",
        "outputId": "96f9dc62-1a9c-4857-957f-948ae6150d33"
      },
      "outputs": [],
      "source": [
        "plt.figure(figsize=(12,5))\n",
        "plt.title(\"Distribuição de custos por idade e por fumantes\")\n",
        "\n",
        "#Distribuição de gastos por fumante e não fumante por sexo\n",
        "sns.scatterplot(x=df.age,y=df.expenses, hue= df.smoker, sizes=(12,5),  palette=\"ch:r=-.2,d=.3_r\");"
      ]
    },
    {
      "cell_type": "markdown",
      "metadata": {
        "id": "putDakHNdHcy"
      },
      "source": [
        "Acho que esse gráfico já deixa bem claro como os fumantes possuem custos maiores com sua saúde."
      ]
    },
    {
      "cell_type": "markdown",
      "metadata": {
        "id": "udh53eJ0oP8k"
      },
      "source": [
        "Ok, já vimos que fumar causa grandes problemas a nossa saúde e também ao nosso bolso, mas vamos analisar as demais variáveis.\n",
        "\n"
      ]
    },
    {
      "cell_type": "markdown",
      "metadata": {
        "id": "7-ag3I45KZ19"
      },
      "source": [
        "Outra váriavel que logo pensamos que pode influenciar os custos hospitalares é de índice de massa corporal (IMC) ou *Body mass index (BMI)* como se encontra em nossos dados. Vamos então olhar mais a fundo para eles e ver, de fato, seu impacto nos custos."
      ]
    },
    {
      "cell_type": "code",
      "execution_count": null,
      "metadata": {
        "colab": {
          "base_uri": "https://localhost:8080/",
          "height": 350
        },
        "id": "Ls6kXun_odiO",
        "outputId": "f7d24d63-f936-4af8-fda8-7982df0cd156"
      },
      "outputs": [],
      "source": [
        "plt.figure(figsize=(12,5))\n",
        "plt.title(\"Distribuição de IMC\")\n",
        "ax = sns.distplot(df[\"bmi\"], color = 'b')"
      ]
    },
    {
      "cell_type": "markdown",
      "metadata": {
        "id": "WKicrd6uOK6x"
      },
      "source": [
        "A distruibuição de IMC está concentrado na casa dos 30. ACredito que para uma melhor compreensão desta informação devemos relembrar da tabela IMC. Por isso estou a disponibilizando abaixo:\n",
        "\n",
        "![texto alternativo](https://uploaddeimagens.com.br/images/002/789/928/full/Design_sem_nome.png?1595534687)\n",
        "\n",
        "Sim, grande maioria dos pacientes do nosso dataset estão ou obesos ou super obesos!\n",
        "\n",
        "Agora uma para rápida no estudo para verificarmos nosso IMC! Cuide de sua saúde!\n",
        "\n"
      ]
    },
    {
      "cell_type": "code",
      "execution_count": null,
      "metadata": {
        "colab": {
          "base_uri": "https://localhost:8080/",
          "height": 350
        },
        "id": "xkiVSUUcTrRe",
        "outputId": "6424bbea-2ccc-4e8e-af92-c626cb4a630f"
      },
      "outputs": [],
      "source": [
        "plt.figure(figsize=(12,5))\n",
        "plt.title(\"Distribuição de custos com pacientes com IMC maior que 30\")\n",
        "ax = sns.distplot(df[(df.bmi >= 30)]['expenses'], color = 'b')"
      ]
    },
    {
      "cell_type": "code",
      "execution_count": null,
      "metadata": {
        "colab": {
          "base_uri": "https://localhost:8080/",
          "height": 350
        },
        "id": "9U3sP7yBXoIP",
        "outputId": "563ffd8d-2d1d-4f68-8f2a-4adc93509ca4"
      },
      "outputs": [],
      "source": [
        "plt.figure(figsize=(12,5))\n",
        "plt.title(\"Distribuição de custos com pacientes com IMC menor que 30\")\n",
        "ax = sns.distplot(df[(df.bmi < 30)]['expenses'], color = 'b')"
      ]
    },
    {
      "cell_type": "markdown",
      "metadata": {
        "id": "lGXFEzKcJ8kg"
      },
      "source": [
        "# **3. Modelo de Regressão Linear**"
      ]
    },
    {
      "cell_type": "markdown",
      "metadata": {
        "id": "9hfOYwXwNmSP"
      },
      "source": [
        "Antes de rodar nosso modelo e verificar quais seus resultados, precisamos preparar os dados para ele.\n",
        "\n",
        "Para isso precisamos separar os valores gastos por cada paciente, já que queremos predizer esses valores não podemos que o modelo saiba quais são!\n",
        "\n",
        "Vamos criar dois datasets, um com todas as váriaveis, exceto a de gastos, e outro somente com os gastos."
      ]
    },
    {
      "cell_type": "code",
      "execution_count": null,
      "metadata": {
        "id": "KcAe9ZrUlvFf"
      },
      "outputs": [],
      "source": [
        "#Separando os dados\n",
        "### -- COMPLETE O CÓDIGO -- ###"
      ]
    },
    {
      "cell_type": "code",
      "execution_count": null,
      "metadata": {
        "colab": {
          "base_uri": "https://localhost:8080/"
        },
        "id": "ehU9dL3g5W82",
        "outputId": "823ffd21-326c-4b39-f629-ba0efaf4c7bb"
      },
      "outputs": [],
      "source": [
        "print(X)"
      ]
    },
    {
      "cell_type": "code",
      "execution_count": null,
      "metadata": {
        "colab": {
          "base_uri": "https://localhost:8080/"
        },
        "id": "BILKSqNk5dz4",
        "outputId": "d7abb94e-063f-4eb3-c69e-9870bd09fdd5"
      },
      "outputs": [],
      "source": [
        "y"
      ]
    },
    {
      "cell_type": "markdown",
      "metadata": {
        "id": "mlH7xac7Nyas"
      },
      "source": [
        "Agora usaremos uma função da biblioteca `scikit-learn` que é a `train_test_split`, esta função separa nossos dados entre treino e teste de forma aleatória, sendo treinado com uma parte dos dados e testados com a outra.\n",
        "\n",
        "Usaremos 80% dos dados para treino e 20% para teste, esta divisão é feita através da feature `test_size=0.2`"
      ]
    },
    {
      "cell_type": "code",
      "execution_count": null,
      "metadata": {
        "id": "1iGhiTEBIYdF"
      },
      "outputs": [],
      "source": [
        "#Separando os dados de Treino e Teste\n",
        "### -- COMPLETE O CÓDIGO -- ###"
      ]
    },
    {
      "cell_type": "code",
      "execution_count": null,
      "metadata": {
        "id": "r-w4TcwvQB9e"
      },
      "outputs": [],
      "source": [
        "#Criando um Objeto de Regressão Linear\n",
        "### -- COMPLETE O CÓDIGO -- ###"
      ]
    },
    {
      "cell_type": "code",
      "execution_count": null,
      "metadata": {
        "colab": {
          "base_uri": "https://localhost:8080/"
        },
        "id": "vdgzCmnMQIze",
        "outputId": "dac8e47f-46c8-415f-bf27-5446608aa4f8"
      },
      "outputs": [],
      "source": [
        "#Treinando o Modelo\n",
        "### -- COMPLETE O CÓDIGO -- ###"
      ]
    },
    {
      "cell_type": "code",
      "execution_count": null,
      "metadata": {
        "colab": {
          "base_uri": "https://localhost:8080/"
        },
        "id": "UgGAfC4ea739",
        "outputId": "424f4f83-0699-455c-d4ea-5de9ec9ef6d4"
      },
      "outputs": [],
      "source": [
        "#Verificando o resultado\n",
        "\n",
        "# predict prices of X_test\n",
        "### -- COMPLETE O CÓDIGO -- ###\n"
      ]
    },
    {
      "cell_type": "markdown",
      "metadata": {
        "id": "2aSvFA5GT3P9"
      },
      "source": [
        "É um belo resultado se levar em consideração que não foi feita nenhuma alteração nos parametros dos dados.\n",
        "\n",
        "Vamos fazer agora uma análise da regressão.\n",
        "\n"
      ]
    },
    {
      "cell_type": "code",
      "execution_count": null,
      "metadata": {
        "colab": {
          "base_uri": "https://localhost:8080/"
        },
        "id": "6gAZteSjzVUi",
        "outputId": "f01157d3-7a82-4fa3-e485-3be61c27cc4a"
      },
      "outputs": [],
      "source": [
        "# Avaliando o modelo\n",
        "r2 = r2_score(y_test, y_pred)\n",
        "print('Coeficiente de Determinação (R²):', r2)\n"
      ]
    },
    {
      "cell_type": "markdown",
      "metadata": {
        "id": "FYT7qusLQtij"
      },
      "source": [
        "# **4.Perfomance do Modelo**"
      ]
    },
    {
      "cell_type": "markdown",
      "metadata": {
        "id": "pN--hhr9SBwe"
      },
      "source": [
        "Nesta etapa, que será a última, avaliaremos o modelo de regressão e explicar os conceitos de avaliação."
      ]
    },
    {
      "cell_type": "markdown",
      "metadata": {
        "id": "ZaXK9puKSlbO"
      },
      "source": [
        "Primeiro, vamos olhar o Intercepto e os Coeficientes da Regressãso."
      ]
    },
    {
      "cell_type": "code",
      "execution_count": null,
      "metadata": {
        "colab": {
          "base_uri": "https://localhost:8080/"
        },
        "id": "TiPrcPtDdEuR",
        "outputId": "70a47687-c4e2-4a95-9ac1-2221c054d3f9"
      },
      "outputs": [],
      "source": [
        "print('Intercepto:', lr_model.intercept_)"
      ]
    },
    {
      "cell_type": "code",
      "execution_count": null,
      "metadata": {
        "colab": {
          "base_uri": "https://localhost:8080/",
          "height": 237
        },
        "id": "HApe2lJufKj0",
        "outputId": "4c7870ea-c593-4d51-ad3b-339536787b49"
      },
      "outputs": [],
      "source": [
        "### -- COMPLETE O CÓDIGO -- ###"
      ]
    },
    {
      "cell_type": "markdown",
      "metadata": {
        "id": "fKv_AJj0dTTz"
      },
      "source": [
        "O Intercepto representa o valor de B0 da equaçaõ da regressão linear. O valor de -11821.52 é a previsão do modelo quando o valor de X é zero.\n",
        "\n",
        "O Coeficiente, neste caso, os coeficientes representam os \"pesos\" das váriaveis nos modelos, neste caso, na equação os identificamos como os b1, b2, b3...bn. O siginificado de cada valor é previsão da adição de cada valor dos coeficientes quando o valor de x é aumentado em um. Exemplo, Quando X aumenta em 1 é adicionado o valor de 250.76 no coeficiente da idade sobre o valor a ser previsto.\n",
        "\n",
        "Com as informações dos \"pesos\" da sua regressão você pode avaliar quais váriaveis afetam o seu modelo, podendo assim aumentar sua eficácia. Outra forma de verificar isso é através o teste de p-valor."
      ]
    },
    {
      "cell_type": "markdown",
      "metadata": {
        "id": "9oToimTSjfvp"
      },
      "source": [
        " **Olhando para os Erros**\n",
        "\n",
        "Uma forma de saber a perfomance da Regressão Linear é olharmos para nossos erros! Pois é errando que se aprende.\n",
        "\n",
        "Para isso a biblioteca `sklearn` nos oferece uma função muito útil que resultado na impressão das principais métricas: MAE, MSE e RMSE. Vamos olhar os valores dessas métricas aplicadas ao modelo e depois discutiremos mais.\n",
        "\n",
        "**Mean Absolute Error (MAE)** é a média do valor absoluto dos erros. \n",
        "\n",
        "**Erro Quadrático Médio (MSE)** é a média dos erros quadráticos\n",
        "\n",
        "**Erro médio quadrático da raiz (RMSE)** é a raiz quadrada da média dos erros quadráticos"
      ]
    },
    {
      "cell_type": "code",
      "execution_count": null,
      "metadata": {
        "colab": {
          "base_uri": "https://localhost:8080/"
        },
        "id": "7el8wKG6bwwy",
        "outputId": "41ffafab-34b7-47c2-98a1-f1fd095e4267"
      },
      "outputs": [],
      "source": [
        "y_pred = lr_model.predict(X_test)\n",
        "print('MAE:', mean_absolute_error(y_test, y_pred))\n",
        "print('MSE:', mean_squared_error(y_test, y_pred))\n",
        "print('RMSE:', np.sqrt(mean_squared_error(y_test, y_pred)))"
      ]
    },
    {
      "cell_type": "markdown",
      "metadata": {
        "id": "Ar7R7PCtkYbK"
      },
      "source": [
        "\n",
        "\n",
        "Com o MAE podemos ver que nosso algoritmo erra  o custo hospitalar em 3943.41 doláres.\n",
        "\n",
        "O RMSE têm o benefício em penalizar os erros de maior magnitude. Esta métrica pode não descrever sozinha o erro médio. Mas a diferença das métricas pode auxiliar no diagnóstico de predições muito ruins ou outliers. Se o RMSE ficar muito maior que MAE então esta suposição deve ser verificada. É o que acontece com o modelo :(\n",
        "\n",
        "Neste caso teriamos que avaliar quais váriaveis penalizam nosso nmodelo, exclui-lás ou transforma-lás em combinação com outras váriaveis. Além de verificar se há Outliers ou se possuimos poucos dados para o modelo.\n",
        "\n",
        "\n"
      ]
    },
    {
      "cell_type": "markdown",
      "metadata": {
        "id": "Qnijq6Nvrfr0"
      },
      "source": [
        "# **5. Conclusão**"
      ]
    },
    {
      "cell_type": "markdown",
      "metadata": {
        "id": "2X9lJ2UArtDZ"
      },
      "source": [
        "É isto! Chegamos ao fim do tutorial de regressão linear no python com a biblioteca Sklearn. Explicamos conceitos e colocamos em pratica um modelo para prever os custos com plano de saúde. Obtivemos bons resultados, mas para colocar este modelo em prática, precisamos realizar diversos ajustes nele, além é claro de melhores dados de entrada, mas não era a acuracia do modelo que estava em foco, e sim, a apresentação desse simples modelo que pode ser um grande aliado na análise de dados. \n",
        "\n",
        "Precisamos da regressão para responder se e como um fenômeno influencia o outro ou como várias variáveis ​​estão relacionadas. A regressão também é útil quando você deseja prever uma resposta usando um novo conjunto de preditores. Por exemplo, você pode tentar prever o consumo de eletricidade de uma família pela próxima hora, considerando a temperatura externa, a hora do dia e o número de residentes nessa família.\n",
        "\n",
        "A regressão é usada em muitos campos diferentes: economia, ciência da computação, ciências sociais e assim por diante. Sua importância aumenta todos os dias com a disponibilidade de grandes quantidades de dados e o aumento da conscientização sobre o valor prático dos dados.\n",
        "\n",
        "Em Breve mostrarei outros modelos de Regressão e também como podemos melhorar os parâmetros dos modelos.\n",
        "\n"
      ]
    }
  ],
  "metadata": {
    "colab": {
      "provenance": []
    },
    "kernelspec": {
      "display_name": "Python 3",
      "language": "python",
      "name": "python3"
    },
    "language_info": {
      "codemirror_mode": {
        "name": "ipython",
        "version": 3
      },
      "file_extension": ".py",
      "mimetype": "text/x-python",
      "name": "python",
      "nbconvert_exporter": "python",
      "pygments_lexer": "ipython3",
      "version": "3.8.10"
    },
    "vscode": {
      "interpreter": {
        "hash": "916dbcbb3f70747c44a77c7bcd40155683ae19c65e1c03b4aa3499c5328201f1"
      }
    }
  },
  "nbformat": 4,
  "nbformat_minor": 0
}
